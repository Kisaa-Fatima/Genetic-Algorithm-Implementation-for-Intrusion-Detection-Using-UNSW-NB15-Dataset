{
  "cells": [
    {
      "cell_type": "markdown",
      "metadata": {
        "id": "f33ow457Mtbi"
      },
      "source": [
        "**Assignment 2 & 3**\n",
        "\n",
        "**QUESTION 1**\n",
        "\n",
        "Kisaa Fatima"
      ]
    },
    {
      "cell_type": "markdown",
      "metadata": {
        "id": "0zrv0gKeM4Io"
      },
      "source": [
        "TO understand the and converting the parquet file"
      ]
    },
    {
      "cell_type": "code",
      "execution_count": 2,
      "metadata": {
        "colab": {
          "base_uri": "https://localhost:8080/"
        },
        "id": "cqufQu-nMoVJ",
        "outputId": "473aae7d-c81a-43d8-a525-af012c64412c"
      },
      "outputs": [
        {
          "name": "stdout",
          "output_type": "stream",
          "text": [
            "        dur proto service state  spkts  dpkts  sbytes  dbytes       rate  \\\n",
            "0  0.121478   tcp       -   FIN      6      4     258     172  74.087486   \n",
            "1  0.649902   tcp       -   FIN     14     38     734   42014  78.473373   \n",
            "2  1.623129   tcp       -   FIN      8     16     364   13186  14.170161   \n",
            "3  1.681642   tcp     ftp   FIN     12     12     628     770  13.677108   \n",
            "4  0.449454   tcp       -   FIN     10      6     534     268  33.373825   \n",
            "\n",
            "          sload  ...  trans_depth  response_body_len  ct_src_dport_ltm  \\\n",
            "0  14158.942383  ...            0                  0                 1   \n",
            "1   8395.112305  ...            0                  0                 1   \n",
            "2   1572.271851  ...            0                  0                 1   \n",
            "3   2740.178955  ...            0                  0                 1   \n",
            "4   8561.499023  ...            0                  0                 2   \n",
            "\n",
            "   ct_dst_sport_ltm  is_ftp_login  ct_ftp_cmd  ct_flw_http_mthd  \\\n",
            "0                 1             0           0                 0   \n",
            "1                 1             0           0                 0   \n",
            "2                 1             0           0                 0   \n",
            "3                 1             1           1                 0   \n",
            "4                 1             0           0                 0   \n",
            "\n",
            "   is_sm_ips_ports  attack_cat  label  \n",
            "0                0      Normal      0  \n",
            "1                0      Normal      0  \n",
            "2                0      Normal      0  \n",
            "3                0      Normal      0  \n",
            "4                0      Normal      0  \n",
            "\n",
            "[5 rows x 36 columns]\n"
          ]
        }
      ],
      "source": [
        "import pyarrow.parquet as pq\n",
        "\n",
        "# Specify the path to your Parquet file\n",
        "parquet_file_path = 'UNSW_NB15_testing-set.parquet'\n",
        "\n",
        "# Read the Parquet file into a PyArrow Table\n",
        "table = pq.read_table(parquet_file_path)\n",
        "\n",
        "# Convert the PyArrow Table to a Pandas DataFrame if needed\n",
        "df = table.to_pandas()\n",
        "\n",
        "# Now you can work with the DataFrame\n",
        "print(df.head())\n"
      ]
    },
    {
      "cell_type": "code",
      "execution_count": null,
      "metadata": {
        "colab": {
          "base_uri": "https://localhost:8080/"
        },
        "id": "x_6r7gVpkTEA",
        "outputId": "28277cbe-28f7-4ce3-d517-25716598ec2e"
      },
      "outputs": [
        {
          "name": "stdout",
          "output_type": "stream",
          "text": [
            "Column Names:\n",
            "Index(['dur', 'proto', 'service', 'state', 'spkts', 'dpkts', 'sbytes',\n",
            "       'dbytes', 'rate', 'sload', 'dload', 'sloss', 'dloss', 'sinpkt',\n",
            "       'dinpkt', 'sjit', 'djit', 'swin', 'stcpb', 'dtcpb', 'dwin', 'tcprtt',\n",
            "       'synack', 'ackdat', 'smean', 'dmean', 'trans_depth',\n",
            "       'response_body_len', 'ct_src_dport_ltm', 'ct_dst_sport_ltm',\n",
            "       'is_ftp_login', 'ct_ftp_cmd', 'ct_flw_http_mthd', 'is_sm_ips_ports',\n",
            "       'attack_cat', 'label'],\n",
            "      dtype='object')\n"
          ]
        }
      ],
      "source": [
        "#for the column names\n",
        "print(\"Column Names:\")\n",
        "print(df.columns)"
      ]
    },
    {
      "cell_type": "markdown",
      "metadata": {
        "id": "UlE9MEJZNCNc"
      },
      "source": [
        "For self evaluation using training data for 1 experiment"
      ]
    },
    {
      "cell_type": "markdown",
      "metadata": {
        "id": "A0N_cOkRQgyk"
      },
      "source": [
        "**FITNESS FUNC**\n",
        "evaluates the fitness of a chromosome by considering the selected features, converting categorical variables, and calculating a fitness score based on the sum of selected feature values in the dataset"
      ]
    },
    {
      "cell_type": "code",
      "execution_count": 3,
      "metadata": {
        "id": "ivCERu3uO2LC"
      },
      "outputs": [],
      "source": [
        "import pandas as pd\n",
        "import numpy as np\n",
        "\n",
        "# Load the training dataset\n",
        "df_train = pd.read_parquet('UNSW_NB15_training-set.parquet')\n",
        "\n",
        "\n",
        "# Define chromosome representation\n",
        "def create_chromosome(num_features):\n",
        "    return np.random.choice([0, 1], size=num_features)\n",
        "\n",
        "def fitness_function(chromosome, df):\n",
        "    # Identify selected features\n",
        "    selected_features = df.columns[chromosome == 1]\n",
        "\n",
        "    # Filter the dataframe to include only the selected features\n",
        "    selected_df = df[selected_features]\n",
        "\n",
        "    # Convert categorical variables to numerical representations\n",
        "    selected_df = pd.get_dummies(selected_df, columns=selected_df.select_dtypes(include='category').columns)\n",
        "\n",
        "    # Calculate fitness based on the sum of selected features\n",
        "    fitness = selected_df.sum().sum()\n",
        "\n",
        "    return fitness\n"
      ]
    },
    {
      "cell_type": "markdown",
      "metadata": {
        "id": "e5-2luSDP699"
      },
      "source": [
        "**SELECTION:**\n",
        "\n",
        "-selects individuals (chromosomes) from the population for next generation based on their fitness values.\n",
        "-individuals with higher fitness values have a higher chance of being selected.\n",
        "-The probabilities variable contains the probability of selecting each individual, which is proportional to its fitness value.\n",
        "\n",
        "**MUTATION:**\n",
        " random changes to the chromosome by flipping individual bits according to the specified mutation rate\n"
      ]
    },
    {
      "cell_type": "code",
      "execution_count": 4,
      "metadata": {
        "id": "KWhOeuttPBPy"
      },
      "outputs": [],
      "source": [
        "# Genetic operators\n",
        "def selection(population, fitness_values):\n",
        "    probabilities = fitness_values / np.sum(fitness_values)\n",
        "    # np.random.choice function is then used to select individuals randomly according to these probabilities.\n",
        "    selected_indices = np.random.choice(len(population), size=len(population), p=probabilities)\n",
        "    selected_population = [population[i] for i in selected_indices]\n",
        "    return selected_population\n",
        "#crossover operator generates new individuals by combining genetic material from selected parents\n",
        "def crossover(parent1, parent2):\n",
        "    crossover_point = np.random.randint(1, len(parent1))\n",
        "    child1 = np.concatenate((parent1[:crossover_point], parent2[crossover_point:]))\n",
        "    child2 = np.concatenate((parent2[:crossover_point], parent1[crossover_point:]))\n",
        "    return child1, child2\n",
        "\n",
        "def mutation(chromosome, mutation_rate):\n",
        "    for i in range(len(chromosome)):\n",
        "        if np.random.random() < mutation_rate:\n",
        "            chromosome[i] = 1 - chromosome[i]  # Flip the bit\n",
        "    return chromosome\n"
      ]
    },
    {
      "cell_type": "markdown",
      "metadata": {
        "id": "ArjzBFvyR5IU"
      },
      "source": [
        "**POPULATION:** Each chromosome represents potential solution where each gene in the chromosome corresponds to whether a feature is selected or not.\n",
        "\n",
        "**algo**: It have population initialization, evaluation, selection, crossover, mutation, and termination conditions, to search for an optimal solution for feature selection in a datas"
      ]
    },
    {
      "cell_type": "code",
      "execution_count": 5,
      "metadata": {
        "id": "DlSAkyCfPMcW"
      },
      "outputs": [],
      "source": [
        "# Initialize population\n",
        "def initialize_population(population_size, num_features):\n",
        "    population = [create_chromosome(num_features) for _ in range(population_size)]\n",
        "    return population\n",
        "\n",
        "# Genetic algorithm\n",
        "def genetic_algorithm(df, num_generations, population_size, mutation_rate):\n",
        "    num_features = len(df.columns)\n",
        "    population = initialize_population(population_size, num_features)\n",
        "\n",
        "    for generation in range(num_generations):\n",
        "        fitness_values = [fitness_function(chromosome, df) for chromosome in population]\n",
        "        selected_population = selection(population, fitness_values)\n",
        "        offspring = []\n",
        "\n",
        "        for i in range(0, len(selected_population), 2):\n",
        "            parent1, parent2 = selected_population[i], selected_population[i+1]\n",
        "            child1, child2 = crossover(parent1, parent2)\n",
        "            offspring.extend([child1, child2])\n",
        "\n",
        "        mutated_offspring = [mutation(chromosome, mutation_rate) for chromosome in offspring]\n",
        "        population = mutated_offspring\n",
        "\n",
        "    final_fitness_values = [fitness_function(chromosome, df) for chromosome in population]\n",
        "    best_index = np.argmax(final_fitness_values)\n",
        "    best_solution = population[best_index]\n",
        "    best_fitness = final_fitness_values[best_index]\n",
        "\n",
        "    return best_solution, best_fitness\n"
      ]
    },
    {
      "cell_type": "code",
      "execution_count": null,
      "metadata": {
        "colab": {
          "base_uri": "https://localhost:8080/"
        },
        "id": "0MlPtKIjrRUF",
        "outputId": "36669b59-752e-455d-86fe-1d38eff20a2b"
      },
      "outputs": [
        {
          "name": "stdout",
          "output_type": "stream",
          "text": [
            "Best solution: [0 1 1 0 0 1 1 1 1 1 1 0 0 0 1 1 0 1 1 1 1 0 0 1 1 0 0 0 1 0 1 0 1 0 1 1]\n",
            "Best fitness: 183056667557483.72\n"
          ]
        }
      ],
      "source": [
        "\n",
        "#example parameters\n",
        "population_size = 100\n",
        "num_generations = 50\n",
        "mutation_rate = 0.01\n",
        "\n",
        "#run the genetic algorithm\n",
        "best_solution, best_fitness = genetic_algorithm(df_train, num_generations, population_size, mutation_rate)\n",
        "\n",
        "print(\"Best solution:\", best_solution)\n",
        "print(\"Best fitness:\", best_fitness)\n"
      ]
    },
    {
      "cell_type": "markdown",
      "metadata": {
        "id": "qqGNu8uRNJWE"
      },
      "source": [
        "with 3 different experiment"
      ]
    },
    {
      "cell_type": "code",
      "execution_count": null,
      "metadata": {
        "id": "EcUjjNGG1AWe"
      },
      "outputs": [],
      "source": [
        "import pandas as pd\n",
        "import numpy as np\n",
        "\n",
        "# Define chromosome representation\n",
        "def create_chromosome(num_features):\n",
        "    return np.random.choice([0, 1], size=num_features)\n",
        "\n",
        "# Define fitness function\n",
        "def fitness_function(chromosome, df):\n",
        "    selected_features = df.columns[chromosome == 1]\n",
        "    fitness = df[selected_features].sum().sum()\n",
        "    return fitness\n",
        "\n",
        "# Define selection function\n",
        "def selection(population, fitness_values):\n",
        "    probabilities = fitness_values / np.sum(fitness_values)\n",
        "    selected_indices = np.random.choice(len(population), size=len(population), p=probabilities)\n",
        "    selected_population = [population[i] for i in selected_indices]\n",
        "    return selected_population\n",
        "\n",
        "# Define crossover function\n",
        "def one_point_crossover(parent1, parent2):\n",
        "    crossover_point = np.random.randint(1, len(parent1))\n",
        "    child1 = np.concatenate((parent1[:crossover_point], parent2[crossover_point:]))\n",
        "    child2 = np.concatenate((parent2[:crossover_point], parent1[crossover_point:]))\n",
        "    return child1, child2\n",
        "\n",
        "def two_point_crossover(parent1, parent2):\n",
        "    crossover_points = sorted(np.random.choice(len(parent1), size=2, replace=False))\n",
        "    child1 = np.concatenate((parent1[:crossover_points[0]], parent2[crossover_points[0]:crossover_points[1]], parent1[crossover_points[1]:]))\n",
        "    child2 = np.concatenate((parent2[:crossover_points[0]], parent1[crossover_points[0]:crossover_points[1]], parent2[crossover_points[1]:]))\n",
        "    return child1, child2\n",
        "\n",
        "# Define mutation function\n",
        "def mutation(chromosome, mutation_rate):\n",
        "    for i in range(len(chromosome)):\n",
        "        if np.random.random() < mutation_rate:\n",
        "            chromosome[i] = 1 - chromosome[i]\n",
        "    return chromosome\n",
        "\n",
        "# Initialize population\n",
        "def initialize_population(population_size, num_features):\n",
        "    population = [create_chromosome(num_features) for _ in range(population_size)]\n",
        "    return population\n",
        "\n",
        "# Genetic algorithm\n",
        "def genetic_algorithm(df, num_generations, population_size, mutation_rate, crossover_type):\n",
        "    num_features = len(df.columns)\n",
        "    population = initialize_population(population_size, num_features)\n",
        "\n",
        "    crossover_fn = one_point_crossover if crossover_type == 'one-point' else two_point_crossover\n",
        "\n",
        "    for generation in range(num_generations):\n",
        "        fitness_values = [fitness_function(chromosome, df) for chromosome in population]\n",
        "        selected_population = selection(population, fitness_values)\n",
        "\n",
        "        offspring = []\n",
        "        for i in range(0, len(selected_population), 2):\n",
        "            parent1, parent2 = selected_population[i], selected_population[i+1]\n",
        "            child1, child2 = crossover_fn(parent1, parent2)\n",
        "            offspring.extend([child1, child2])\n",
        "\n",
        "        mutated_offspring = [mutation(chromosome, mutation_rate) for chromosome in offspring]\n",
        "\n",
        "        population = mutated_offspring\n",
        "\n",
        "    final_fitness_values = [fitness_function(chromosome, df) for chromosome in population]\n",
        "    best_index = np.argmax(final_fitness_values)\n",
        "    best_solution = population[best_index]\n",
        "    best_fitness = final_fitness_values[best_index]\n",
        "\n",
        "    return best_solution, best_fitness\n",
        "\n",
        "# Preprocessing function to handle categorical columns\n",
        "def preprocess_data(df):\n",
        "    categorical_columns = df.select_dtypes(include=['category']).columns\n",
        "    df = df.drop(categorical_columns, axis=1)\n",
        "    return df\n",
        "\n",
        "if __name__ == \"__main__\":\n",
        "    # Load training dataset\n",
        "    df_train = pd.read_parquet('UNSW_NB15_training-set.parquet')\n",
        "\n",
        "    # Preprocess the training dataset\n",
        "    df_train = preprocess_data(df_train)\n",
        "\n",
        "    # Define parameters for experiments\n",
        "    population_sizes = [50, 100, 200]\n",
        "    crossover_types = ['one-point', 'two-point']\n",
        "    mutation_rates = [0.01, 0.05, 0.1]\n",
        "    num_generations = 50\n",
        "\n",
        "    # Run experiments\n",
        "    results = []\n",
        "    for pop_size in population_sizes:\n",
        "        for crossover_type in crossover_types:\n",
        "            for mutation_rate in mutation_rates:\n",
        "                best_solution, best_fitness = genetic_algorithm(df_train, num_generations, pop_size, mutation_rate, crossover_type)\n",
        "                results.append({'Population Size': pop_size, 'Crossover Type': crossover_type, 'Mutation Rate': mutation_rate,\n",
        "                                'Best Solution': best_solution, 'Best Fitness': best_fitness})\n",
        "\n",
        "    # Save results to a CSV file\n",
        "    results_df = pd.DataFrame(results)\n",
        "    results_df.to_csv('exp_results.csv', index=False)\n"
      ]
    },
    {
      "cell_type": "markdown",
      "metadata": {
        "id": "QRxwaKEtNXb9"
      },
      "source": [
        "below is the code with 3 experiments, but using fitness function of the paper ."
      ]
    },
    {
      "cell_type": "code",
      "execution_count": null,
      "metadata": {
        "id": "m5dO6XeoccVW"
      },
      "outputs": [],
      "source": [
        "import pandas as pd\n",
        "import numpy as np\n",
        "\n",
        "# chromosome representation\n",
        "def create_chromosome(num_features):\n",
        "    return np.random.choice([0, 1], size=num_features)\n",
        "\n",
        "def fitness_function(chromosome, df, weights):\n",
        "    #Calculate fitness based on the size & weight of selected features\n",
        "    selected_features = df.columns[chromosome == 1]\n",
        "    selected_indices = [df.columns.get_loc(feature) for feature in selected_features]\n",
        "    size = df.iloc[:, selected_indices].sum().sum()  #sum of sizes of selected features\n",
        "    #multiply by the sum of weights of selected features\n",
        "    fitness = size * weights[selected_indices].sum()\n",
        "\n",
        "    return fitness\n",
        "\n",
        "#selection function\n",
        "def selection(population, fitness_values):\n",
        "    probabilities = fitness_values / np.sum(fitness_values)\n",
        "    selected_indices = np.random.choice(len(population), size=len(population), p=probabilities)\n",
        "    selected_population = [population[i] for i in selected_indices]\n",
        "    return selected_population\n",
        "\n",
        "#crossover function\n",
        "def one_point_crossover(parent1, parent2):\n",
        "    crossover_point = np.random.randint(1, len(parent1))\n",
        "    child1 = np.concatenate((parent1[:crossover_point], parent2[crossover_point:]))\n",
        "    child2 = np.concatenate((parent2[:crossover_point], parent1[crossover_point:]))\n",
        "    return child1, child2\n",
        "\n",
        "def two_point_crossover(parent1, parent2):\n",
        "    crossover_points = sorted(np.random.choice(len(parent1), size=2, replace=False))\n",
        "    child1 = np.concatenate((parent1[:crossover_points[0]], parent2[crossover_points[0]:crossover_points[1]], parent1[crossover_points[1]:]))\n",
        "    child2 = np.concatenate((parent2[:crossover_points[0]], parent1[crossover_points[0]:crossover_points[1]], parent2[crossover_points[1]:]))\n",
        "    return child1, child2\n",
        "\n",
        "#for mutation function\n",
        "def mutation(chromosome, mutation_rate):\n",
        "    for i in range(len(chromosome)):\n",
        "        if np.random.random() < mutation_rate:\n",
        "            chromosome[i] = 1 - chromosome[i]\n",
        "    return chromosome\n",
        "\n",
        "#initializing population\n",
        "def initialize_population(population_size, num_features):\n",
        "    population = [create_chromosome(num_features) for _ in range(population_size)]\n",
        "    return population\n",
        "\n",
        "#genetic algorithm\n",
        "def genetic_algorithm(df, num_generations, population_size, mutation_rate, crossover_type, weights):\n",
        "    num_features = len(df.columns)\n",
        "    population = initialize_population(population_size, num_features)\n",
        "\n",
        "    crossover_fn = one_point_crossover if crossover_type == 'one-point' else two_point_crossover\n",
        "\n",
        "    for generation in range(num_generations):\n",
        "        fitness_values = [fitness_function(chromosome, df, weights) for chromosome in population]\n",
        "        selected_population = selection(population, fitness_values)\n",
        "\n",
        "        offspring = []\n",
        "        for i in range(0, len(selected_population), 2):\n",
        "            parent1, parent2 = selected_population[i], selected_population[i+1]\n",
        "            child1, child2 = crossover_fn(parent1, parent2)\n",
        "            offspring.extend([child1, child2])\n",
        "\n",
        "        mutated_offspring = [mutation(chromosome, mutation_rate) for chromosome in offspring]\n",
        "\n",
        "        population = mutated_offspring\n",
        "\n",
        "    final_fitness_values = [fitness_function(chromosome, df, weights) for chromosome in population]\n",
        "    best_index = np.argmax(final_fitness_values)\n",
        "    best_solution = population[best_index]\n",
        "    best_fitness = final_fitness_values[best_index]\n",
        "\n",
        "    return best_solution, best_fitness\n",
        "\n",
        "#preprocessing function to handle categorical columns\n",
        "def preprocess_data(df):\n",
        "    categorical_columns = df.select_dtypes(include=['category']).columns\n",
        "    df = df.drop(categorical_columns, axis=1)\n",
        "    return df\n",
        "\n",
        "if __name__ == \"__main__\":\n",
        "    #load training dataset\n",
        "    df_train = pd.read_parquet('UNSW_NB15_training-set.parquet')\n",
        "\n",
        "    #preprocess the training dataset\n",
        "    df_train = preprocess_data(df_train)\n",
        "\n",
        "    #define parameters for experiments\n",
        "    population_sizes = [50, 100, 200]\n",
        "    crossover_types = ['one-point', 'two-point']\n",
        "    mutation_rates = [0.01, 0.05, 0.1]\n",
        "    num_generations = 40\n",
        "    weights = np.random.rand(len(df_train.columns))  # Random weights for each feature\n",
        "\n",
        "    #run experiments\n",
        "    results = []\n",
        "    for pop_size in population_sizes:\n",
        "        for crossover_type in crossover_types:\n",
        "            for mutation_rate in mutation_rates:\n",
        "                best_solution, best_fitness = genetic_algorithm(df_train, num_generations, pop_size, mutation_rate, crossover_type, weights)\n",
        "                results.append({'Population Size': pop_size, 'Crossover Type': crossover_type, 'Mutation Rate': mutation_rate,\n",
        "                                'Best Solution': best_solution, 'Best Fitness': best_fitness})\n",
        "\n",
        "    #results to a CSV file\n",
        "    results_df = pd.DataFrame(results)\n",
        "    results_df.to_csv('exp1_results.csv', index=False)\n"
      ]
    },
    {
      "cell_type": "markdown",
      "metadata": {
        "id": "SaXDbTSDCBev"
      },
      "source": [
        "**FROM TRAINING AND TESTING DATASETS**\n",
        "\n",
        "After running experiments on the training dataset and saving the results, we evaluate the best solutions obtained from the training on the testing dataset."
      ]
    },
    {
      "cell_type": "code",
      "execution_count": 1,
      "metadata": {
        "id": "KOENB96LCDib"
      },
      "outputs": [],
      "source": [
        "import numpy as np\n",
        "import pandas as pd\n",
        "\n",
        "#chromosome representation\n",
        "def create_chromosome(num_features):\n",
        "    return np.random.choice([0, 1], size=num_features)\n",
        "\n",
        "\n",
        "def fitness_function(chromosome, df):\n",
        "    selected_features = df.columns[chromosome == 1]\n",
        "    fitness = df[selected_features].sum().sum()\n",
        "    return fitness\n",
        "\n",
        "#selection function\n",
        "def selection(population, fitness_values):\n",
        "    probabilities = fitness_values / np.sum(fitness_values)\n",
        "    selected_indices = np.random.choice(len(population), size=len(population), p=probabilities)\n",
        "    selected_population = [population[i] for i in selected_indices]\n",
        "    return selected_population\n",
        "\n",
        "#crossover function\n",
        "def one_point_crossover(parent1, parent2):\n",
        "    crossover_point = np.random.randint(1, len(parent1))\n",
        "    child1 = np.concatenate((parent1[:crossover_point], parent2[crossover_point:]))\n",
        "    child2 = np.concatenate((parent2[:crossover_point], parent1[crossover_point:]))\n",
        "    return child1, child2\n",
        "\n",
        "def two_point_crossover(parent1, parent2):\n",
        "    crossover_points = sorted(np.random.choice(len(parent1), size=2, replace=False))\n",
        "    child1 = np.concatenate((parent1[:crossover_points[0]], parent2[crossover_points[0]:crossover_points[1]], parent1[crossover_points[1]:]))\n",
        "    child2 = np.concatenate((parent2[:crossover_points[0]], parent1[crossover_points[0]:crossover_points[1]], parent2[crossover_points[1]:]))\n",
        "    return child1, child2\n",
        "\n",
        "#mutation function\n",
        "def mutation(chromosome, mutation_rate):\n",
        "    for i in range(len(chromosome)):\n",
        "        if np.random.random() < mutation_rate:\n",
        "            chromosome[i] = 1 - chromosome[i]\n",
        "    return chromosome\n",
        "\n",
        "#initialize population\n",
        "def initialize_population(population_size, num_features):\n",
        "    population = [create_chromosome(num_features) for _ in range(population_size)]\n",
        "    return population\n",
        "\n",
        "#algorithm\n",
        "def genetic_algorithm(df, num_generations, population_size, mutation_rate, crossover_type):\n",
        "    num_features = len(df.columns)\n",
        "    population = initialize_population(population_size, num_features)\n",
        "\n",
        "    crossover_fn = one_point_crossover if crossover_type == 'one-point' else two_point_crossover\n",
        "\n",
        "    for generation in range(num_generations):\n",
        "        fitness_values = [fitness_function(chromosome, df) for chromosome in population]\n",
        "        selected_population = selection(population, fitness_values)\n",
        "\n",
        "        offspring = []\n",
        "        for i in range(0, len(selected_population), 2):\n",
        "            parent1, parent2 = selected_population[i], selected_population[i+1]\n",
        "            child1, child2 = crossover_fn(parent1, parent2)\n",
        "            offspring.extend([child1, child2])\n",
        "\n",
        "        mutated_offspring = [mutation(chromosome, mutation_rate) for chromosome in offspring]\n",
        "\n",
        "        population = mutated_offspring\n",
        "\n",
        "    final_fitness_values = [fitness_function(chromosome, df) for chromosome in population]\n",
        "    best_index = np.argmax(final_fitness_values)\n",
        "    best_solution = population[best_index]\n",
        "    best_fitness = final_fitness_values[best_index]\n",
        "\n",
        "    return best_solution, best_fitness\n",
        "\n",
        "#preprocessing function to handle categorical columns\n",
        "def preprocess_data(df):\n",
        "    categorical_columns = df.select_dtypes(include=['category']).columns\n",
        "    df = df.drop(categorical_columns, axis=1)\n",
        "    return df\n",
        "\n",
        "if __name__ == \"__main__\":\n",
        "    #training dataset\n",
        "    df_train = pd.read_parquet('UNSW_NB15_training-set.parquet')\n",
        "\n",
        "    #testing dataset\n",
        "    df_test = pd.read_parquet('UNSW_NB15_testing-set.parquet')\n",
        "\n",
        "    #preprocess both datasets\n",
        "    df_train = preprocess_data(df_train)\n",
        "    df_test = preprocess_data(df_test)\n",
        "\n",
        "    #define parameters for experiments\n",
        "    population_sizes = [50, 100, 200]\n",
        "    crossover_types = ['one-point', 'two-point']\n",
        "    mutation_rates = [0.01, 0.05, 0.1]\n",
        "    num_generations = 50\n",
        "\n",
        "    #run experiments on training dataset\n",
        "    train_results = []\n",
        "    for pop_size in population_sizes:\n",
        "        for crossover_type in crossover_types:\n",
        "            for mutation_rate in mutation_rates:\n",
        "                best_solution, best_fitness = genetic_algorithm(df_train, num_generations, pop_size, mutation_rate, crossover_type)\n",
        "                train_results.append({'Population Size': pop_size, 'Crossover Type': crossover_type, 'Mutation Rate': mutation_rate,\n",
        "                                'Best Solution': best_solution, 'Best Fitness': best_fitness})\n",
        "\n",
        "    #save training results to a CSV file\n",
        "    train_results_df = pd.DataFrame(train_results)\n",
        "    train_results_df.to_csv('train_results.csv', index=False)\n",
        "\n",
        "    #evaluate on testing dataset\n",
        "    test_results = []\n",
        "    for idx, row in train_results_df.iterrows():\n",
        "        best_solution = row['Best Solution']\n",
        "        test_fitness = fitness_function(best_solution, df_test)\n",
        "        test_results.append({'Population Size': row['Population Size'], 'Crossover Type': row['Crossover Type'],\n",
        "                             'Mutation Rate': row['Mutation Rate'], 'Test Fitness': test_fitness})\n",
        "\n",
        "    #save testing results to a CSV file\n",
        "    test_results_df = pd.DataFrame(test_results)\n",
        "    test_results_df.to_csv('test_results.csv', index=False)\n"
      ]
    },
    {
      "cell_type": "markdown",
      "metadata": {
        "id": "dy00bjEwMhLd"
      },
      "source": []
    },
    {
      "cell_type": "code",
      "execution_count": null,
      "metadata": {
        "id": "ch5uFhW6CiZb"
      },
      "outputs": [],
      "source": []
    }
  ],
  "metadata": {
    "colab": {
      "provenance": []
    },
    "kernelspec": {
      "display_name": "Python 3",
      "name": "python3"
    },
    "language_info": {
      "name": "python"
    }
  },
  "nbformat": 4,
  "nbformat_minor": 0
}
